{
  "nbformat": 4,
  "nbformat_minor": 0,
  "metadata": {
    "colab": {
      "name": "TDA.ipynb",
      "provenance": [],
      "collapsed_sections": [],
      "authorship_tag": "ABX9TyO44gy9voGGztMY2bux4AeB",
      "include_colab_link": true
    },
    "kernelspec": {
      "name": "python3",
      "display_name": "Python 3"
    }
  },
  "cells": [
    {
      "cell_type": "markdown",
      "metadata": {
        "id": "view-in-github",
        "colab_type": "text"
      },
      "source": [
        "<a href=\"https://colab.research.google.com/github/Alex-M21/IPC2-TDA/blob/main/TDA.ipynb\" target=\"_parent\"><img src=\"https://colab.research.google.com/assets/colab-badge.svg\" alt=\"Open In Colab\"/></a>"
      ]
    },
    {
      "cell_type": "code",
      "metadata": {
        "id": "Fbz2mY900veL"
      },
      "source": [
        "\r\n",
        "class cliente: \r\n",
        "  def __init__(self,nombre,no_habitacion):\r\n",
        "    self.nombre = nombre\r\n",
        "    self.no_habitacion = no_habitacion"
      ],
      "execution_count": 1,
      "outputs": []
    },
    {
      "cell_type": "code",
      "metadata": {
        "id": "dsy8nBz90y0B"
      },
      "source": [
        "class node:\r\n",
        "  def __init(self, cliente=None, next=None):\r\n",
        "    self.cliente = cliente\r\n",
        "    self.next=next\r\n"
      ],
      "execution_count": 80,
      "outputs": []
    },
    {
      "cell_type": "code",
      "metadata": {
        "id": "DiClhUltYaOe"
      },
      "source": [
        "class linked_list:\r\n",
        "  \r\n",
        "  def _init_(self):\r\n",
        "    self.head=None\r\n",
        "  def insertar(self, cliente):\r\n",
        "    if not self.head:\r\n",
        "      self.head = node(cliente=cliente)\r\n",
        "      return\r\n",
        "    current=self.head\r\n",
        "    while current.next:\r\n",
        "      current=current.next\r\n",
        "    current.next=node(cliente=cliente)\r\n",
        "  \r\n",
        "  def imprimir(self):\r\n",
        "    node=self.head\r\n",
        "    while node != None: \r\n",
        "      print(node.cliente.nombre, end=\"=>\")\r\n",
        "      node=node.next\r\n",
        "  \r\n",
        "  def eliminar(self, no_habitacion):\r\n",
        "    current=self.head\r\n",
        "    previous= None\r\n",
        "\r\n",
        "    while current and current.cliente.no_habitacion != no_habitacion:\r\n",
        "      previous = current\r\n",
        "      current= current.next\r\n",
        "    if previous is None:\r\n",
        "      self.head = current.next\r\n",
        "    elif current:\r\n",
        "      previous.next=current.next\r\n",
        "      current.next=None"
      ],
      "execution_count": 81,
      "outputs": []
    },
    {
      "cell_type": "code",
      "metadata": {
        "id": "AX38lASOcyIh"
      },
      "source": [
        "c1 = cliente(\"Brayan Mejia\",100)\r\n",
        "c2 = cliente(\"Marco Lopez\", 103)\r\n",
        "c3 = cliente(\"Josue Armas\", 204)\r\n",
        "c4 = cliente(\"Gladys Olmos\", 302)"
      ],
      "execution_count": 82,
      "outputs": []
    },
    {
      "cell_type": "code",
      "metadata": {
        "id": "Jhxx4pjsdWf6"
      },
      "source": [
        "lista = linked_list\r\n",
        "lista.insertar(c1)\r\n",
        "lista.insertar(c2)\r\n",
        "lista.insertar(c3)\r\n",
        "lista.insertar(c4)"
      ],
      "execution_count": null,
      "outputs": []
    },
    {
      "cell_type": "code",
      "metadata": {
        "id": "6Mx3En6SfV_j"
      },
      "source": [
        "lista.imprimir()\r\n",
        "\r\n",
        "\r\n"
      ],
      "execution_count": null,
      "outputs": []
    },
    {
      "cell_type": "code",
      "metadata": {
        "id": "D-jYUztmkj1I"
      },
      "source": [
        "lista.eliminar(204)\r\n",
        "lista.imprimir()"
      ],
      "execution_count": null,
      "outputs": []
    },
    {
      "cell_type": "markdown",
      "metadata": {
        "id": "GK_UIl7SoQK0"
      },
      "source": [
        "Ejercicio de listas Circulares"
      ]
    },
    {
      "cell_type": "code",
      "metadata": {
        "id": "gOIpaUcuoVA0"
      },
      "source": [
        "class linked_list_circular:\r\n",
        "  def __init__(self, head=None):\r\n",
        "    self.head = head\r\n",
        "    self.size = 0\r\n",
        "#inserta al final como una cola \r\n",
        "  def insertar (self, cliente):\r\n",
        "\r\n",
        "    if self.size == 0:\r\n",
        "\r\n",
        "      self.head = node(cliente = cliente)\r\n",
        "      self.head.next = self.head\r\n",
        "    else:\r\n",
        "      new_node = node(cliente=cliente, next=self.head.next)\r\n",
        "      self.head.next = new_node\r\n",
        "    self.size += 1\r\n",
        "\r\n",
        "  def imprimir (self):\r\n",
        "\r\n",
        "     if self.head is None:\r\n",
        "       return\r\n",
        "     node = self.head\r\n",
        "     print(node.cliente.nombre, end = \" => \")\r\n",
        "     while node.next != self.head:\r\n",
        "       node = node.next\r\n",
        "       print(node.cliente.nombre, end = \" => \")\r\n",
        "\r\n",
        "\r\n",
        "  def eliminar (self, no_habitacion):\r\n",
        "    node = self.head\r\n",
        "    previous = None\r\n",
        "    while True:\r\n",
        "      if node.cliente.no_habitacion == no_habitacion:\r\n",
        "        #si el anterior de la cabezera no es vacio\r\n",
        "        if previous is not None:\r\n",
        "          # el anterior que apunta al siguiente del nodo que  sera el nuevo siguiente \r\n",
        "          previous.next = node.next\r\n",
        "        else:\r\n",
        "          while  node.next != self.head:\r\n",
        "            node = node.next\r\n",
        "          node.next = self.head.next\r\n",
        "          self.head = self.head.next\r\n",
        "        self.size -= 1\r\n",
        "        return True\r\n",
        "      elif node.next == self.head:\r\n",
        "        return False\r\n",
        "      previous = node\r\n",
        "      node = node.next\r\n",
        "\r\n",
        "      \r\n"
      ],
      "execution_count": null,
      "outputs": []
    },
    {
      "cell_type": "code",
      "metadata": {
        "id": "nlH6FHHPRN1l"
      },
      "source": [
        "lista_c = linked_list_circular()\r\n",
        "\r\n",
        "lista_c.insertar(c1)\r\n",
        "lista_c.insertar(c2)\r\n",
        "lista_c.insertar(c3)\r\n",
        "lista_c.insertar(c4)\r\n"
      ],
      "execution_count": null,
      "outputs": []
    },
    {
      "cell_type": "code",
      "metadata": {
        "id": "DQh7u0rdcJM6"
      },
      "source": [
        "lista_c.imprimir()"
      ],
      "execution_count": null,
      "outputs": []
    },
    {
      "cell_type": "code",
      "metadata": {
        "id": "ikR81GS5cRrr"
      },
      "source": [
        ""
      ],
      "execution_count": null,
      "outputs": []
    },
    {
      "cell_type": "markdown",
      "metadata": {
        "id": "Y_oRtee-huwB"
      },
      "source": [
        "Lista doblemente enlazada \r\n"
      ]
    },
    {
      "cell_type": "code",
      "metadata": {
        "id": "nRtM6EKih1pA"
      },
      "source": [
        "class node_de:\r\n",
        "  def __init__(self,cliente=None,next=None,previous = None):\r\n",
        "    self.cliente = cliente\r\n",
        "    self.previous = previous\r\n",
        "    self.next = next\r\n",
        "    \r\n"
      ],
      "execution_count": null,
      "outputs": []
    },
    {
      "cell_type": "code",
      "metadata": {
        "id": "-JcmD_RpZ2Ww"
      },
      "source": [
        "class linked_list_de:\r\n",
        "  def __init__(self,head = None):\r\n",
        "    #\r\n",
        "    self.head = head\r\n",
        "    self.last = head\r\n",
        "    self.size = 0\r\n",
        "  def insertar (self,cliente):\r\n",
        "    if self.size == 0:\r\n",
        "      self.head = node_de(cliente =cliente)\r\n",
        "      self.last = self.head\r\n",
        "    else:\r\n",
        "      new_node = node_de(cliente = cliente, next = self.head)\r\n",
        "      self.head.previous = new_node\r\n",
        "      self.head = new_node\r\n",
        "    self.size += 1\r\n",
        "\r\n",
        "  def imprimir (self):\r\n",
        "    if self.head is None:\r\n",
        "      return\r\n",
        "    \r\n",
        "    node = self.head\r\n",
        "    print(node.cliente.nombre,end = \" => \")\r\n",
        "\r\n",
        "    while node.next:\r\n",
        "        node = node.next\r\n",
        "        print(node.cliente.nombre,end = \" => \")\r\n",
        "\r\n",
        "  def eliminar(self,no_habitacion):\r\n",
        "    node = self.head\r\n",
        "    while node is not None:\r\n",
        "\r\n",
        "      if node.cliente.no_habitacion == no_habitacion:\r\n",
        "        if node.previous is not None:\r\n",
        "          if node.next:\r\n",
        "            node.previous.next = node.next\r\n",
        "            node.next.previous = node.previous\r\n",
        "          else:\r\n",
        "            node.previous.next = None\r\n",
        "            self.last = node.previous\r\n",
        "        else:\r\n",
        "          self.head = node.next\r\n",
        "          node.next.previous = self.head\r\n",
        "        self.size -=1\r\n",
        "        return True\r\n",
        "      else:\r\n",
        "        node = node.next\r\n",
        "    return False\r\n",
        "\r\n",
        "\r\n",
        "\r\n"
      ],
      "execution_count": null,
      "outputs": []
    },
    {
      "cell_type": "code",
      "metadata": {
        "id": "5etIl95Lmf5O"
      },
      "source": [
        ""
      ],
      "execution_count": null,
      "outputs": []
    },
    {
      "cell_type": "code",
      "metadata": {
        "id": "lpMumfTIbcPs"
      },
      "source": [
        "c1 = cliente(\"Christopher Andre\",101)\r\n",
        "c2 = cliente(\"Diego Alejandro\",102)\r\n",
        "c3 = cliente(\"Brayan Mejia \",103)\r\n",
        "c4 = cliente(\"Alexander Mejia\",104)\r\n",
        "c5 = cliente(\"ALejandra Judith\",(105)\r\n",
        "\r\n",
        "\r\n"
      ],
      "execution_count": null,
      "outputs": []
    },
    {
      "cell_type": "code",
      "metadata": {
        "id": "Xmc_q2xQcd0V"
      },
      "source": [
        "lista_de = linked_list_de()\r\n",
        "lista_de.insertar(c1)\r\n",
        "lista_de.insertar(c2)\r\n",
        "lista_de.insertar(c3)\r\n",
        "lista_de.insertar(c4)\r\n"
      ],
      "execution_count": null,
      "outputs": []
    },
    {
      "cell_type": "code",
      "metadata": {
        "id": "nPi8JnsedwAY"
      },
      "source": [
        "lista_de.imprimir()"
      ],
      "execution_count": null,
      "outputs": []
    },
    {
      "cell_type": "code",
      "metadata": {
        "id": "sqdndw_ZmiMf"
      },
      "source": [
        "lista_de.eliminar(102)\r\n",
        "\r\n"
      ],
      "execution_count": null,
      "outputs": []
    },
    {
      "cell_type": "code",
      "metadata": {
        "id": "FEXsQaADnqYz"
      },
      "source": [
        "lista_de.imprimir()"
      ],
      "execution_count": null,
      "outputs": []
    },
    {
      "cell_type": "markdown",
      "metadata": {
        "id": "UXEk4CLfdEDW"
      },
      "source": [
        "Pila\r\n"
      ]
    },
    {
      "cell_type": "code",
      "metadata": {
        "id": "gAUKsL1edDEI"
      },
      "source": [
        "class Pila:\r\n",
        "  def __init__(self):\r\n",
        "    self.pila = []\r\n",
        "\r\n",
        "  def apilar(self,cliente):\r\n",
        "      self.pila.append(cliente)\r\n",
        "  def devolver_tamaño(self):\r\n",
        "      return len(self.pila)\r\n",
        "  def imprimir (self):\r\n",
        "      for elemento in self.pila:\r\n",
        "        print(elemento.nombre,end = \"=>\")\r\n",
        "  def desapilar(self):\r\n",
        "    if self.pila:\r\n",
        "      self.pila.pop()"
      ],
      "execution_count": 26,
      "outputs": []
    },
    {
      "cell_type": "code",
      "metadata": {
        "id": "7x2p989Yduk7"
      },
      "source": [
        "c1 = cliente(\"Christopher Andre\",101)\r\n",
        "c2 = cliente(\"Diego Alejandro\",102)\r\n",
        "c3 = cliente(\"Brayan Mejia \",103)\r\n",
        "c4 = cliente(\"Alexander Mejia\",104)\r\n"
      ],
      "execution_count": 35,
      "outputs": []
    },
    {
      "cell_type": "code",
      "metadata": {
        "id": "qm0yFMC7d9zV"
      },
      "source": [
        "p = Pila()\r\n",
        "p.apilar(c1)\r\n",
        "p.apilar(c2)\r\n",
        "p.apilar(c3)\r\n",
        "p.apilar(c4)\r\n"
      ],
      "execution_count": 42,
      "outputs": []
    },
    {
      "cell_type": "code",
      "metadata": {
        "colab": {
          "base_uri": "https://localhost:8080/"
        },
        "id": "iywLMVpPfZFG",
        "outputId": "e7f78fc4-5779-41ba-8613-2fecee0d4c6e"
      },
      "source": [
        "p.devolver_tamaño()"
      ],
      "execution_count": 43,
      "outputs": [
        {
          "output_type": "execute_result",
          "data": {
            "text/plain": [
              "4"
            ]
          },
          "metadata": {
            "tags": []
          },
          "execution_count": 43
        }
      ]
    },
    {
      "cell_type": "code",
      "metadata": {
        "colab": {
          "base_uri": "https://localhost:8080/"
        },
        "id": "zIrgG2X0fdHX",
        "outputId": "e9b3c5d7-3daa-4954-b6a6-d1da49db956f"
      },
      "source": [
        "p.imprimir()"
      ],
      "execution_count": 44,
      "outputs": [
        {
          "output_type": "stream",
          "text": [
            "Christopher Andre=>Diego Alejandro=>Brayan Mejia =>Alexander Mejia=>"
          ],
          "name": "stdout"
        }
      ]
    },
    {
      "cell_type": "code",
      "metadata": {
        "colab": {
          "base_uri": "https://localhost:8080/"
        },
        "id": "mgZ3rzl-gs52",
        "outputId": "b1ddd957-aa7c-4c53-ca32-125773225b39"
      },
      "source": [
        "p.desapilar()\r\n",
        "p.imprimir()"
      ],
      "execution_count": 46,
      "outputs": [
        {
          "output_type": "stream",
          "text": [
            "Christopher Andre=>Diego Alejandro=>"
          ],
          "name": "stdout"
        }
      ]
    },
    {
      "cell_type": "markdown",
      "metadata": {
        "id": "AnrAUC_dhacr"
      },
      "source": [
        "Colas"
      ]
    },
    {
      "cell_type": "code",
      "metadata": {
        "id": "AomJob7oiD4I"
      },
      "source": [
        "class Cola:\r\n",
        "  def __init__(self):\r\n",
        "    self.cola = []\r\n",
        "  def encolar(self,cliente):\r\n",
        "    self.cola.append(cliente)\r\n",
        "  def devolver_tamaño(self):\r\n",
        "    return len(self.cola)\r\n",
        "  def imprimir(self):\r\n",
        "    for elemento in self.cola:\r\n",
        "      print(elemento.nombre,end=\"<=\")\r\n",
        "  def desencolar(self):\r\n",
        "    if self.cola:\r\n",
        "      self.cola.pop(0)\r\n"
      ],
      "execution_count": 73,
      "outputs": []
    },
    {
      "cell_type": "code",
      "metadata": {
        "id": "BAkFHOmMjJIG"
      },
      "source": [
        "c1 = cliente(\"Christopher Andre\",101)\r\n",
        "c2 = cliente(\"Diego Alejandro\",102)\r\n",
        "c3 = cliente(\"Brayan Mejia \",103)\r\n",
        "c4 = cliente(\"Alexander Mejia\",104)\r\n",
        "c5 = cliente(\"ALejandra Judith\",105)\r\n",
        "\r\n",
        "\r\n"
      ],
      "execution_count": 74,
      "outputs": []
    },
    {
      "cell_type": "code",
      "metadata": {
        "id": "34KefeRzjCcH"
      },
      "source": [
        "c = Cola()\r\n",
        "c.encolar(c1)\r\n",
        "c.encolar(c2)\r\n",
        "c.encolar(c3)\r\n",
        "c.encolar(c4)\r\n",
        "c.encolar(c5)\r\n"
      ],
      "execution_count": 75,
      "outputs": []
    },
    {
      "cell_type": "code",
      "metadata": {
        "colab": {
          "base_uri": "https://localhost:8080/"
        },
        "id": "CJk-sMp-jcRd",
        "outputId": "5acb374a-fff3-48fa-f695-94b198ceec04"
      },
      "source": [
        "c.devolver_tamaño()"
      ],
      "execution_count": 76,
      "outputs": [
        {
          "output_type": "execute_result",
          "data": {
            "text/plain": [
              "5"
            ]
          },
          "metadata": {
            "tags": []
          },
          "execution_count": 76
        }
      ]
    },
    {
      "cell_type": "code",
      "metadata": {
        "colab": {
          "base_uri": "https://localhost:8080/"
        },
        "id": "IOvwKvsLjgQ6",
        "outputId": "d1fa91a3-7352-4bcc-c74e-2fc2842bfb28"
      },
      "source": [
        "c.imprimir()\r\n"
      ],
      "execution_count": 77,
      "outputs": [
        {
          "output_type": "stream",
          "text": [
            "Christopher Andre<=Diego Alejandro<=Brayan Mejia <=Alexander Mejia<=ALejandra Judith<="
          ],
          "name": "stdout"
        }
      ]
    },
    {
      "cell_type": "code",
      "metadata": {
        "colab": {
          "base_uri": "https://localhost:8080/"
        },
        "id": "SOXo1uXXlJNH",
        "outputId": "2676cc3c-14af-4f6e-b344-bcf2a6e9903b"
      },
      "source": [
        "c.desencolar()\r\n",
        "c.imprimir()"
      ],
      "execution_count": 78,
      "outputs": [
        {
          "output_type": "stream",
          "text": [
            "Diego Alejandro<=Brayan Mejia <=Alexander Mejia<=ALejandra Judith<="
          ],
          "name": "stdout"
        }
      ]
    }
  ]
}