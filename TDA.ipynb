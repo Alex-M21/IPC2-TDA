{
  "nbformat": 4,
  "nbformat_minor": 0,
  "metadata": {
    "colab": {
      "name": "TDA.ipynb",
      "provenance": [],
      "collapsed_sections": [],
      "authorship_tag": "ABX9TyORzfKNo292+Ihzvs0p6+5w",
      "include_colab_link": true
    },
    "kernelspec": {
      "name": "python3",
      "display_name": "Python 3"
    }
  },
  "cells": [
    {
      "cell_type": "markdown",
      "metadata": {
        "id": "view-in-github",
        "colab_type": "text"
      },
      "source": [
        "<a href=\"https://colab.research.google.com/github/Alex-M21/IPC2-TDA/blob/main/TDA.ipynb\" target=\"_parent\"><img src=\"https://colab.research.google.com/assets/colab-badge.svg\" alt=\"Open In Colab\"/></a>"
      ]
    },
    {
      "cell_type": "code",
      "metadata": {
        "id": "zWG4XyCpceZE"
      },
      "source": [
        "class cliente: \r\n",
        "  def __init__(self,nombre,no_habitacion):\r\n",
        "    self.nombre = nombre\r\n",
        "    self.no_habitacion = no_habitacion\r\n",
        "\r\n"
      ],
      "execution_count": 1,
      "outputs": []
    },
    {
      "cell_type": "code",
      "metadata": {
        "id": "5UiEq7UgWeiN"
      },
      "source": [
        "class node:\r\n",
        "  def __init_(self, cliente=None, next=None):\r\n",
        "    self.cliente = cliente\r\n",
        "    self.next=next\r\n"
      ],
      "execution_count": null,
      "outputs": []
    },
    {
      "cell_type": "code",
      "metadata": {
        "id": "DiClhUltYaOe"
      },
      "source": [
        "class linked_list:\r\n",
        "  def __init__(self):\r\n",
        "    self.head=None\r\n",
        "  def insertar(self, cliente):\r\n",
        "    # si no tengo cabezera\r\n",
        "    if not self.head:\r\n",
        "       # la cabezera sera clase nodo(#metodo cliente,#parametro incertado)\r\n",
        "      self.head=node(cliente=cliente)   \r\n",
        "      return\r\n",
        "      current = self.head #la cabezera es mi nodo actual\r\n",
        "    while  current.next:#recorrer los nodos\r\n",
        "      current = current.next #cuando llegue al siguiente obtener el valor de ese nodo \r\n",
        "    current.next = node(cliente=cliente)# cuando llegue al finalel ultmo elemento obtengo el siguiente y creo el auntador\r\n",
        "    # hacia el nuevo nodo que estoy ingresando \r\n",
        "  def imprimir(self):\r\n",
        "    node = self.head\r\n",
        "    while node != None:\r\n",
        "      print(node.cliente.nombre, end = \"=>\")\r\n",
        "      node = node.next\r\n",
        "\r\n",
        "  def eliminar(self,no_habitacion):\r\n",
        "    current=self.head\r\n",
        "    previous=None #arranca con la variable actual \r\n",
        "\r\n",
        "    while current and current.cliente.no_habitacion != no_habitacion:\r\n",
        "      #obtenemos el valor\r\n",
        "      previous = current\r\n",
        "      current = current.next # acutual apuntando al siguiente \r\n",
        "\r\n",
        "      if previous in None: # no es nulo por que lleva un valor \r\n",
        "        self.head = current.next\r\n",
        "      elif current:\r\n",
        "        previous.next = current.next # previous \r\n",
        "        current.next = None\r\n",
        "# corriendo  el puntero a una posicion siguiente la anterior queda remplazada por el siguiente elemento\r\n",
        "      \r\n",
        "\r\n"
      ],
      "execution_count": null,
      "outputs": []
    },
    {
      "cell_type": "code",
      "metadata": {
        "id": "AX38lASOcyIh"
      },
      "source": [
        "c1 = cliente(\"Brayan Mejia\",101)\r\n",
        "c0 = cliente(\"Desconocido 1\", 105)\r\n",
        "c2 = cliente(\"Alexander Barrientos\",103)\r\n",
        "c3 = cliente(\"Rocky\",204)\r\n",
        "c4 = cliente(\"Zoila Rodriguez\",302)"
      ],
      "execution_count": 2,
      "outputs": []
    },
    {
      "cell_type": "code",
      "metadata": {
        "colab": {
          "base_uri": "https://localhost:8080/",
          "height": 350
        },
        "id": "Jhxx4pjsdWf6",
        "outputId": "9b448f27-efd7-445f-f214-46833ade18cb"
      },
      "source": [
        "lista = linked_list()\r\n",
        "lista.insertar(c1)\r\n",
        "lista.insertar(c2)\r\n",
        "lista.insertar(c3)\r\n",
        "lista.insertar(c4)"
      ],
      "execution_count": null,
      "outputs": [
        {
          "output_type": "error",
          "ename": "TypeError",
          "evalue": "ignored",
          "traceback": [
            "\u001b[0;31m---------------------------------------------------------------------------\u001b[0m",
            "\u001b[0;31mTypeError\u001b[0m                                 Traceback (most recent call last)",
            "\u001b[0;32m<ipython-input-5-8e3b4fc4b9df>\u001b[0m in \u001b[0;36m<module>\u001b[0;34m()\u001b[0m\n\u001b[1;32m      1\u001b[0m \u001b[0mlista\u001b[0m \u001b[0;34m=\u001b[0m \u001b[0mlinked_list\u001b[0m\u001b[0;34m(\u001b[0m\u001b[0;34m)\u001b[0m\u001b[0;34m\u001b[0m\u001b[0;34m\u001b[0m\u001b[0m\n\u001b[0;32m----> 2\u001b[0;31m \u001b[0mlista\u001b[0m\u001b[0;34m.\u001b[0m\u001b[0minsertar\u001b[0m\u001b[0;34m(\u001b[0m\u001b[0mc1\u001b[0m\u001b[0;34m)\u001b[0m\u001b[0;34m\u001b[0m\u001b[0;34m\u001b[0m\u001b[0m\n\u001b[0m\u001b[1;32m      3\u001b[0m \u001b[0mlista\u001b[0m\u001b[0;34m.\u001b[0m\u001b[0minsertar\u001b[0m\u001b[0;34m(\u001b[0m\u001b[0mc2\u001b[0m\u001b[0;34m)\u001b[0m\u001b[0;34m\u001b[0m\u001b[0;34m\u001b[0m\u001b[0m\n\u001b[1;32m      4\u001b[0m \u001b[0mlista\u001b[0m\u001b[0;34m.\u001b[0m\u001b[0minsertar\u001b[0m\u001b[0;34m(\u001b[0m\u001b[0mc3\u001b[0m\u001b[0;34m)\u001b[0m\u001b[0;34m\u001b[0m\u001b[0;34m\u001b[0m\u001b[0m\n\u001b[1;32m      5\u001b[0m \u001b[0mlista\u001b[0m\u001b[0;34m.\u001b[0m\u001b[0minsertar\u001b[0m\u001b[0;34m(\u001b[0m\u001b[0mc4\u001b[0m\u001b[0;34m)\u001b[0m\u001b[0;34m\u001b[0m\u001b[0;34m\u001b[0m\u001b[0m\n",
            "\u001b[0;32m<ipython-input-3-d3465c418079>\u001b[0m in \u001b[0;36minsertar\u001b[0;34m(self, cliente)\u001b[0m\n\u001b[1;32m      6\u001b[0m     \u001b[0;32mif\u001b[0m \u001b[0;32mnot\u001b[0m \u001b[0mself\u001b[0m\u001b[0;34m.\u001b[0m\u001b[0mhead\u001b[0m\u001b[0;34m:\u001b[0m\u001b[0;34m\u001b[0m\u001b[0;34m\u001b[0m\u001b[0m\n\u001b[1;32m      7\u001b[0m        \u001b[0;31m# la cabezera sera clase nodo(#metodo cliente,#parametro incertado)\u001b[0m\u001b[0;34m\u001b[0m\u001b[0;34m\u001b[0m\u001b[0;34m\u001b[0m\u001b[0m\n\u001b[0;32m----> 8\u001b[0;31m       \u001b[0mself\u001b[0m\u001b[0;34m.\u001b[0m\u001b[0mhead\u001b[0m\u001b[0;34m=\u001b[0m\u001b[0mnode\u001b[0m\u001b[0;34m(\u001b[0m\u001b[0mcliente\u001b[0m\u001b[0;34m=\u001b[0m\u001b[0mcliente\u001b[0m\u001b[0;34m)\u001b[0m\u001b[0;34m\u001b[0m\u001b[0;34m\u001b[0m\u001b[0m\n\u001b[0m\u001b[1;32m      9\u001b[0m       \u001b[0;32mreturn\u001b[0m\u001b[0;34m\u001b[0m\u001b[0;34m\u001b[0m\u001b[0m\n\u001b[1;32m     10\u001b[0m       \u001b[0mcurrent\u001b[0m \u001b[0;34m=\u001b[0m \u001b[0mself\u001b[0m\u001b[0;34m.\u001b[0m\u001b[0mhead\u001b[0m \u001b[0;31m#la cabezera es mi nodo actual\u001b[0m\u001b[0;34m\u001b[0m\u001b[0;34m\u001b[0m\u001b[0m\n",
            "\u001b[0;31mTypeError\u001b[0m: object() takes no parameters"
          ]
        }
      ]
    },
    {
      "cell_type": "code",
      "metadata": {
        "id": "6Mx3En6SfV_j"
      },
      "source": [
        "lista.imprimir()\r\n",
        "\r\n",
        "\r\n"
      ],
      "execution_count": null,
      "outputs": []
    },
    {
      "cell_type": "code",
      "metadata": {
        "id": "D-jYUztmkj1I"
      },
      "source": [
        "lista.eliminar(204)\r\n",
        "lista.imprimir()"
      ],
      "execution_count": null,
      "outputs": []
    },
    {
      "cell_type": "markdown",
      "metadata": {
        "id": "GK_UIl7SoQK0"
      },
      "source": [
        "Ejercicio de listas Circulares"
      ]
    },
    {
      "cell_type": "code",
      "metadata": {
        "id": "gOIpaUcuoVA0"
      },
      "source": [
        "class linked_list_circular:\r\n",
        "  def __init__(self, head=None):\r\n",
        "    self.head = head\r\n",
        "    self.size = 0\r\n",
        "#inserta al final como una cola \r\n",
        "  def insertar (self, cliente):\r\n",
        "\r\n",
        "    if self.size == 0:\r\n",
        "\r\n",
        "      self.head = node(cliente = cliente)\r\n",
        "      self.head.next = self.head\r\n",
        "    else:\r\n",
        "      new_node = node(cliente=cliente, next=self.head.next)\r\n",
        "      self.head.next = new_node\r\n",
        "    self.size += 1\r\n",
        "\r\n",
        "  def imprimir (self):\r\n",
        "\r\n",
        "     if self.head is None:\r\n",
        "       return\r\n",
        "     node = self.head\r\n",
        "     print(node.cliente.nombre, end = \" => \")\r\n",
        "     while node.next != self.head:\r\n",
        "       node = node.next\r\n",
        "       print(node.cliente.nombre, end = \" => \")\r\n",
        "\r\n",
        "\r\n",
        "  def eliminar (self, no_habitacion):\r\n",
        "    node = self.head\r\n",
        "    previous = None\r\n",
        "    while True:\r\n",
        "      if node.cliente.no_habitacion == no_habitacion:\r\n",
        "        #si el anterior de la cabezera no es vacio\r\n",
        "        if previous is not None:\r\n",
        "          # el anterior que apunta al siguiente del nodo que  sera el nuevo siguiente \r\n",
        "          previous.next = node.next\r\n",
        "        else:\r\n",
        "          while  node.next != self.head:\r\n",
        "            node = node.next\r\n",
        "          node.next = self.head.next\r\n",
        "          self.head = self.head.next\r\n",
        "        self.size -= 1\r\n",
        "        return True\r\n",
        "      elif node.next == self.head:\r\n",
        "        return False\r\n",
        "      previous = node\r\n",
        "      node = node.next\r\n",
        "\r\n",
        "      \r\n"
      ],
      "execution_count": 3,
      "outputs": []
    },
    {
      "cell_type": "code",
      "metadata": {
        "colab": {
          "base_uri": "https://localhost:8080/",
          "height": 231
        },
        "id": "nlH6FHHPRN1l",
        "outputId": "832c1914-8495-4c9e-e279-16e3449797fc"
      },
      "source": [
        "lista_c = linked_list_circular()\r\n",
        "\r\n",
        "lista_c.insertar(c1)\r\n",
        "lista_c.insertar(c2)\r\n",
        "lista_c.insertar(c3)\r\n",
        "lista_c.insertar(c4)\r\n"
      ],
      "execution_count": 3,
      "outputs": [
        {
          "output_type": "error",
          "ename": "NameError",
          "evalue": "ignored",
          "traceback": [
            "\u001b[0;31m---------------------------------------------------------------------------\u001b[0m",
            "\u001b[0;31mNameError\u001b[0m                                 Traceback (most recent call last)",
            "\u001b[0;32m<ipython-input-3-90fc01d8661e>\u001b[0m in \u001b[0;36m<module>\u001b[0;34m()\u001b[0m\n\u001b[1;32m      1\u001b[0m \u001b[0mlista_c\u001b[0m \u001b[0;34m=\u001b[0m \u001b[0mlinked_list_circular\u001b[0m\u001b[0;34m(\u001b[0m\u001b[0;34m)\u001b[0m\u001b[0;34m\u001b[0m\u001b[0;34m\u001b[0m\u001b[0m\n\u001b[1;32m      2\u001b[0m \u001b[0;34m\u001b[0m\u001b[0m\n\u001b[0;32m----> 3\u001b[0;31m \u001b[0mlista_c\u001b[0m\u001b[0;34m.\u001b[0m\u001b[0minsertar\u001b[0m\u001b[0;34m(\u001b[0m\u001b[0mc1\u001b[0m\u001b[0;34m)\u001b[0m\u001b[0;34m\u001b[0m\u001b[0;34m\u001b[0m\u001b[0m\n\u001b[0m\u001b[1;32m      4\u001b[0m \u001b[0mlista_c\u001b[0m\u001b[0;34m.\u001b[0m\u001b[0minsertar\u001b[0m\u001b[0;34m(\u001b[0m\u001b[0mc2\u001b[0m\u001b[0;34m)\u001b[0m\u001b[0;34m\u001b[0m\u001b[0;34m\u001b[0m\u001b[0m\n\u001b[1;32m      5\u001b[0m \u001b[0mlista_c\u001b[0m\u001b[0;34m.\u001b[0m\u001b[0minsertar\u001b[0m\u001b[0;34m(\u001b[0m\u001b[0mc3\u001b[0m\u001b[0;34m)\u001b[0m\u001b[0;34m\u001b[0m\u001b[0;34m\u001b[0m\u001b[0m\n",
            "\u001b[0;31mNameError\u001b[0m: name 'c1' is not defined"
          ]
        }
      ]
    },
    {
      "cell_type": "code",
      "metadata": {
        "id": "DQh7u0rdcJM6"
      },
      "source": [
        "lista_c.imprimir()"
      ],
      "execution_count": null,
      "outputs": []
    },
    {
      "cell_type": "code",
      "metadata": {
        "id": "ikR81GS5cRrr"
      },
      "source": [
        ""
      ],
      "execution_count": null,
      "outputs": []
    },
    {
      "cell_type": "markdown",
      "metadata": {
        "id": "Y_oRtee-huwB"
      },
      "source": [
        "Lista doblemente enlazada \r\n"
      ]
    },
    {
      "cell_type": "code",
      "metadata": {
        "id": "nRtM6EKih1pA"
      },
      "source": [
        "class node_de:\r\n",
        "  def __init__(self,cliente=None,next=None,previous = None):\r\n",
        "    self.cliente = cliente\r\n",
        "    self.previous = previous\r\n",
        "    self.next = next\r\n",
        "    \r\n"
      ],
      "execution_count": 2,
      "outputs": []
    },
    {
      "cell_type": "code",
      "metadata": {
        "id": "-JcmD_RpZ2Ww"
      },
      "source": [
        "class linked_list_de:\r\n",
        "  def __init__(self,head = None):\r\n",
        "    #\r\n",
        "    self.head = head\r\n",
        "    self.last = head\r\n",
        "    self.size = 0\r\n",
        "  def insertar (self,cliente):\r\n",
        "    if self.size == 0:\r\n",
        "      self.head = node_de(cliente =cliente)\r\n",
        "      self.last = self.head\r\n",
        "    else:\r\n",
        "      new_node = node_de(cliente = cliente, next = self.head)\r\n",
        "      self.head.previous = new_node\r\n",
        "      self.head = new_node\r\n",
        "    self.size += 1\r\n",
        "\r\n",
        "  def imprimir (self):\r\n",
        "    if self.head is None:\r\n",
        "      return\r\n",
        "    \r\n",
        "    node = self.head\r\n",
        "    print(node.cliente.nombre,end = \" => \")\r\n",
        "\r\n",
        "    while node.next:\r\n",
        "        node = node.next\r\n",
        "        print(node.cliente.nombre,end = \" => \")\r\n",
        "\r\n",
        "  def eliminar(self,no_habitacion):\r\n",
        "    node = self.head\r\n",
        "    while node is not None:\r\n",
        "\r\n",
        "      if node.cliente.no_habitacion == no_habitacion:\r\n",
        "        if node.previous is not None:\r\n",
        "          if node.next:\r\n",
        "            node.previous.next = node.next\r\n",
        "            node.next.previous = node.previous\r\n",
        "          else:\r\n",
        "            node.previous.next = None\r\n",
        "            self.last = node.previous\r\n",
        "        else:\r\n",
        "          self.head = node.next\r\n",
        "          node.next.previous = self.head\r\n",
        "        self.size -=1\r\n",
        "        return True\r\n",
        "      else:\r\n",
        "        node = node.next\r\n",
        "    return False\r\n",
        "\r\n",
        "\r\n",
        "\r\n"
      ],
      "execution_count": 4,
      "outputs": []
    },
    {
      "cell_type": "code",
      "metadata": {
        "id": "5etIl95Lmf5O"
      },
      "source": [
        ""
      ],
      "execution_count": null,
      "outputs": []
    },
    {
      "cell_type": "code",
      "metadata": {
        "id": "lpMumfTIbcPs"
      },
      "source": [
        "c1 = cliente(\"Christopher Andre\",101)\r\n",
        "c2 = cliente(\"Diego Alejandro\",102)\r\n",
        "c3 = cliente(\"Brayan Mejia \",103)\r\n",
        "c4 = cliente(\"Alexander Mejia\",104)\r\n",
        "c5 = cliente(\"ALejandra Judith\",(105))\r\n",
        "\r\n",
        "\r\n"
      ],
      "execution_count": 5,
      "outputs": []
    },
    {
      "cell_type": "code",
      "metadata": {
        "id": "Xmc_q2xQcd0V"
      },
      "source": [
        "lista_de = linked_list_de()\r\n",
        "lista_de.insertar(c1)\r\n",
        "lista_de.insertar(c2)\r\n",
        "lista_de.insertar(c3)\r\n",
        "lista_de.insertar(c4)\r\n"
      ],
      "execution_count": 6,
      "outputs": []
    },
    {
      "cell_type": "code",
      "metadata": {
        "colab": {
          "base_uri": "https://localhost:8080/"
        },
        "id": "nPi8JnsedwAY",
        "outputId": "d5c125e0-7442-4445-a852-7cdede00560b"
      },
      "source": [
        "lista_de.imprimir()"
      ],
      "execution_count": 7,
      "outputs": [
        {
          "output_type": "stream",
          "text": [
            "Alexander Mejia => Brayan Mejia  => Diego Alejandro => Christopher Andre => "
          ],
          "name": "stdout"
        }
      ]
    },
    {
      "cell_type": "code",
      "metadata": {
        "colab": {
          "base_uri": "https://localhost:8080/"
        },
        "id": "sqdndw_ZmiMf",
        "outputId": "eb47d18b-7312-4740-c25b-4bd5dec1a8e7"
      },
      "source": [
        "lista_de.eliminar(102)\r\n",
        "\r\n"
      ],
      "execution_count": 18,
      "outputs": [
        {
          "output_type": "execute_result",
          "data": {
            "text/plain": [
              "True"
            ]
          },
          "metadata": {
            "tags": []
          },
          "execution_count": 18
        }
      ]
    },
    {
      "cell_type": "code",
      "metadata": {
        "colab": {
          "base_uri": "https://localhost:8080/"
        },
        "id": "FEXsQaADnqYz",
        "outputId": "fda3ec1f-77f9-41b8-eed2-ce348b02c74a"
      },
      "source": [
        "lista_de.imprimir()"
      ],
      "execution_count": 20,
      "outputs": [
        {
          "output_type": "stream",
          "text": [
            "Brayan Mejia  => Diego Alejandro => Christopher Andre => "
          ],
          "name": "stdout"
        }
      ]
    }
  ]
}